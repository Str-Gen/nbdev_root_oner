{
 "cells": [
  {
   "cell_type": "code",
   "execution_count": 370,
   "metadata": {},
   "outputs": [],
   "source": [
    "#| default_exp core"
   ]
  },
  {
   "cell_type": "markdown",
   "metadata": {},
   "source": [
    "# module name here\n",
    "\n",
    "> API details."
   ]
  },
  {
   "cell_type": "code",
   "execution_count": 371,
   "metadata": {},
   "outputs": [],
   "source": [
    "#| export\n",
    "from nbdev.showdoc import *\n",
    "from fastcore.basics import *\n",
    "from fastcore.utils import *\n",
    "from fastcore.test import *\n",
    "from fastcore.parallel import *\n",
    "from sklearn.tree import DecisionTreeClassifier\n",
    "from functools import partial\n",
    "import pandas as pd\n",
    "import os"
   ]
  },
  {
   "cell_type": "code",
   "execution_count": 372,
   "metadata": {},
   "outputs": [],
   "source": [
    "#| export\n",
    "class RootOneR:\n",
    "    def __init__(self, data, target, metric, n_jobs):\n",
    "        self.data = data \n",
    "        self.target = target\n",
    "        self.metric = metric\n",
    "        self.n_jobs = n_jobs or os.cpu_count()//2\n",
    "        self.cats = list(data.select_dtypes(include='category').columns.values)\n",
    "        self.conts = list(data.columns.difference([self.target]+self.cats).values)\n",
    "        self.X_train = None\n",
    "        self.y_train = None\n",
    "        self.X_test = None\n",
    "        self.y_test = None        \n",
    "        self.lookup = {c: self.data[c].cat.categories for c in self.cats}        \n",
    "        self.data[self.cats] = self.data[self.cats].apply(lambda x: x.cat.codes)\n",
    "        if target in self.cats:\n",
    "            self.cats.remove(target)\n",
    "        self.result_df = None\n",
    "\n",
    "    def __str__(self): \n",
    "        return f\"Categoricals {self.cats}\\nContinuous {self.conts}\\nTarget {self.target}\""
   ]
  },
  {
   "cell_type": "code",
   "execution_count": 374,
   "metadata": {},
   "outputs": [],
   "source": [
    "#| export\n",
    "def _xs_y(df_, targ): \n",
    "    if not isinstance(targ, list):\n",
    "        xs = df_[df_.columns.difference([targ])].copy()\n",
    "    else:\n",
    "        xs = df_[df_.columns.difference(targ)].copy()\n",
    "    y = df_[targ].copy()\n",
    "    return xs, y"
   ]
  },
  {
   "cell_type": "code",
   "execution_count": 375,
   "metadata": {},
   "outputs": [],
   "source": [
    "#| export\n",
    "@patch\n",
    "def train_test_split(self:RootOneR, fraction: float, fix_rng: int):\n",
    "    self.X_train, self.y_train = _xs_y(df_=self.data.sample(frac=fraction, random_state=fix_rng), targ=self.target)    \n",
    "    self.X_test, self.y_test = _xs_y(df_=self.data.drop(self.X_train.index), targ=self.target)"
   ]
  },
  {
   "cell_type": "code",
   "execution_count": 376,
   "metadata": {},
   "outputs": [],
   "source": [
    "#| export\n",
    "def evaluate_one_feature(feature, index, oner: RootOneR):    \n",
    "    rootnode = DecisionTreeClassifier(max_depth=1, criterion='gini')\n",
    "    rootnode.fit(oner.X_train[feature].array.reshape(-1,1), oner.y_train)\n",
    "    preds = rootnode.predict(oner.X_test[feature].array.reshape(-1,1))\n",
    "    ras = round(oner.metric(oner.y_test, preds), 4)\n",
    "    return feature, ras, rootnode, preds"
   ]
  },
  {
   "cell_type": "code",
   "execution_count": 377,
   "metadata": {},
   "outputs": [],
   "source": [
    "#| export\n",
    "def evaluate_all_features(oner: RootOneR):\n",
    "    features, metrics, rootnodes, predictions = zip(*parallel(f=partial(evaluate_one_feature, index='', oner=oner), items=oner.conts+oner.cats, n_workers=oner.n_jobs))\n",
    "    oner.result_df = pd.DataFrame(index=features, data=metrics, columns=[oner.metric.__name__]).sort_values(by=oner.metric.__name__, ascending=False)\n"
   ]
  }
 ],
 "metadata": {
  "interpreter": {
   "hash": "e7370f93d1d0cde622a1f8e1c04877d8463912d04d973331ad4851f04de6915a"
  },
  "kernelspec": {
   "display_name": "Python 3.10.4 64-bit",
   "language": "python",
   "name": "python3"
  },
  "language_info": {
   "codemirror_mode": {
    "name": "ipython",
    "version": 3
   },
   "file_extension": ".py",
   "mimetype": "text/x-python",
   "name": "python",
   "nbconvert_exporter": "python",
   "pygments_lexer": "ipython3",
   "version": "3.10.4"
  }
 },
 "nbformat": 4,
 "nbformat_minor": 4
}
